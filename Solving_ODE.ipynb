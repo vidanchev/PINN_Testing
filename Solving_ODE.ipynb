{
 "cells": [
  {
   "attachments": {},
   "cell_type": "markdown",
   "metadata": {},
   "source": [
    "# Solving an ODE with NN\n",
    "\n",
    "## From ODE to NN loss function\n",
    "- Consider the IVP:\n",
    "\n",
    "$ \\frac{d x}{d t} = f( t , x ), $\n",
    "\n",
    "$ t \\in [ 0 , 1 ], $\n",
    "\n",
    "$ x( 0 ) = x_0. $\n",
    "\n",
    "- The initial value can be satisfied automatically by updating:\n",
    "\n",
    "$ \\hat{x}(t;\\theta) = x_0 + t N(t;\\theta). $\n",
    "\n",
    "- The idea is to find the \"residual\" of the ODE (error between LHS/RHS) and integrate it squarred (to maintain positivity and only one 0 solution):\n",
    "\n",
    "$ \\large L(\\theta) = \\int_0^1 \\left[ \\frac{d \\hat{x}(t;\\theta)}{d t} - f( t , \\hat{x}(t;\\theta) ) \\right]^2 dt. $\n",
    "\n",
    "## Solving the problem with stochastic gradient descent\n",
    "\n",
    "- The algorithm converges (Robbins-Monro, 1951):\n",
    "$ \\large \\theta_{i+1} = \\theta_i - \\frac{a_i}{N} \\sum_{j=1}^{N} \\nabla_{\\theta} \\left[ \\frac{d \\hat{x}(t_j;\\theta_i)}{d t} - f( t , \\hat{x}(t_j;\\theta_i) ) \\right]^2 $,\n",
    "\n",
    "where $t_j$ are uniformly sampled in the interval ($t \\in [ 0 , 1 ]$ in this case) at each iteration $i$."
   ]
  },
  {
   "attachments": {},
   "cell_type": "markdown",
   "metadata": {},
   "source": [
    "## Testing it out in practice on a harmonic oscillator"
   ]
  },
  {
   "cell_type": "code",
   "execution_count": 3,
   "metadata": {},
   "outputs": [],
   "source": [
    "# Import the relevant libraries\n",
    "import torch\n",
    "import torch.nn as nn\n",
    "from time import perf_counter\n",
    "#from PIL import Image\n",
    "import matplotlib.pyplot as plt\n",
    "from functools import partial\n",
    "import numpy as np\n",
    "import requests\n",
    "import os\n",
    "\n",
    "device = torch.device(\"cpu\")"
   ]
  }
 ],
 "metadata": {
  "kernelspec": {
   "display_name": "Python 3",
   "language": "python",
   "name": "python3"
  },
  "language_info": {
   "codemirror_mode": {
    "name": "ipython",
    "version": 3
   },
   "file_extension": ".py",
   "mimetype": "text/x-python",
   "name": "python",
   "nbconvert_exporter": "python",
   "pygments_lexer": "ipython3",
   "version": "3.9.1"
  },
  "orig_nbformat": 4
 },
 "nbformat": 4,
 "nbformat_minor": 2
}
